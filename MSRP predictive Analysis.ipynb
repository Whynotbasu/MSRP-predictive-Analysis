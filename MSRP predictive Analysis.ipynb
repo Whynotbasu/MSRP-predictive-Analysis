{
 "cells": [
  {
   "cell_type": "markdown",
   "id": "7fd6da22-6093-4436-9a2d-e09ccf982e1f",
   "metadata": {},
   "source": [
    "🔍 Business Problem\n",
    "\n"
   ]
  },
  {
   "cell_type": "markdown",
   "id": "41db1397-1fa4-4aa7-aa4f-091dbb0d2f22",
   "metadata": {},
   "source": [
    "Goal: Help a car manufacturer optimize pricing and product development decisions to maximize profitability while meeting consumer demand.\n"
   ]
  },
  {
   "cell_type": "code",
   "execution_count": 1,
   "id": "7f832bac-9704-41f2-a131-aa345d6b5f64",
   "metadata": {},
   "outputs": [],
   "source": [
    "import pandas as pd"
   ]
  },
  {
   "cell_type": "code",
   "execution_count": 2,
   "id": "5bb4db03-ed05-49da-9bc2-0ed6064a5d8f",
   "metadata": {},
   "outputs": [],
   "source": [
    "import numpy as np"
   ]
  },
  {
   "cell_type": "code",
   "execution_count": 3,
   "id": "79903095-1ba8-4f37-9dc9-6c44a395dd2c",
   "metadata": {},
   "outputs": [],
   "source": [
    "df = pd.read_excel(\"Dataset.xlsx\")"
   ]
  },
  {
   "cell_type": "code",
   "execution_count": 41,
   "id": "c644ea75-871e-4903-a18b-4da77774fca6",
   "metadata": {},
   "outputs": [
    {
     "data": {
      "text/html": [
       "<div>\n",
       "<style scoped>\n",
       "    .dataframe tbody tr th:only-of-type {\n",
       "        vertical-align: middle;\n",
       "    }\n",
       "\n",
       "    .dataframe tbody tr th {\n",
       "        vertical-align: top;\n",
       "    }\n",
       "\n",
       "    .dataframe thead th {\n",
       "        text-align: right;\n",
       "    }\n",
       "</style>\n",
       "<table border=\"1\" class=\"dataframe\">\n",
       "  <thead>\n",
       "    <tr style=\"text-align: right;\">\n",
       "      <th></th>\n",
       "      <th>Make</th>\n",
       "      <th>Model</th>\n",
       "      <th>Year</th>\n",
       "      <th>Engine Fuel Type</th>\n",
       "      <th>Engine HP</th>\n",
       "      <th>Engine Cylinders</th>\n",
       "      <th>Transmission Type</th>\n",
       "      <th>Driven_Wheels</th>\n",
       "      <th>Number of Doors</th>\n",
       "      <th>Vehicle Size</th>\n",
       "      <th>Vehicle Style</th>\n",
       "      <th>highway MPG</th>\n",
       "      <th>city mpg</th>\n",
       "      <th>Popularity</th>\n",
       "      <th>MSRP</th>\n",
       "      <th>Avg MPG</th>\n",
       "      <th>Fuel Type Group</th>\n",
       "      <th>Cluster</th>\n",
       "    </tr>\n",
       "  </thead>\n",
       "  <tbody>\n",
       "    <tr>\n",
       "      <th>0</th>\n",
       "      <td>BMW</td>\n",
       "      <td>1 Series M</td>\n",
       "      <td>2011</td>\n",
       "      <td>premium unleaded (required)</td>\n",
       "      <td>335.0</td>\n",
       "      <td>6.0</td>\n",
       "      <td>MANUAL</td>\n",
       "      <td>rear wheel drive</td>\n",
       "      <td>2.0</td>\n",
       "      <td>Compact</td>\n",
       "      <td>Coupe</td>\n",
       "      <td>26</td>\n",
       "      <td>19</td>\n",
       "      <td>3916</td>\n",
       "      <td>46135</td>\n",
       "      <td>22.5</td>\n",
       "      <td>Premium</td>\n",
       "      <td>3</td>\n",
       "    </tr>\n",
       "    <tr>\n",
       "      <th>1</th>\n",
       "      <td>BMW</td>\n",
       "      <td>1 Series</td>\n",
       "      <td>2011</td>\n",
       "      <td>premium unleaded (required)</td>\n",
       "      <td>300.0</td>\n",
       "      <td>6.0</td>\n",
       "      <td>MANUAL</td>\n",
       "      <td>rear wheel drive</td>\n",
       "      <td>2.0</td>\n",
       "      <td>Compact</td>\n",
       "      <td>Convertible</td>\n",
       "      <td>28</td>\n",
       "      <td>19</td>\n",
       "      <td>3916</td>\n",
       "      <td>40650</td>\n",
       "      <td>23.5</td>\n",
       "      <td>Premium</td>\n",
       "      <td>3</td>\n",
       "    </tr>\n",
       "    <tr>\n",
       "      <th>2</th>\n",
       "      <td>BMW</td>\n",
       "      <td>1 Series</td>\n",
       "      <td>2011</td>\n",
       "      <td>premium unleaded (required)</td>\n",
       "      <td>300.0</td>\n",
       "      <td>6.0</td>\n",
       "      <td>MANUAL</td>\n",
       "      <td>rear wheel drive</td>\n",
       "      <td>2.0</td>\n",
       "      <td>Compact</td>\n",
       "      <td>Coupe</td>\n",
       "      <td>28</td>\n",
       "      <td>20</td>\n",
       "      <td>3916</td>\n",
       "      <td>36350</td>\n",
       "      <td>24.0</td>\n",
       "      <td>Premium</td>\n",
       "      <td>3</td>\n",
       "    </tr>\n",
       "    <tr>\n",
       "      <th>3</th>\n",
       "      <td>BMW</td>\n",
       "      <td>1 Series</td>\n",
       "      <td>2011</td>\n",
       "      <td>premium unleaded (required)</td>\n",
       "      <td>230.0</td>\n",
       "      <td>6.0</td>\n",
       "      <td>MANUAL</td>\n",
       "      <td>rear wheel drive</td>\n",
       "      <td>2.0</td>\n",
       "      <td>Compact</td>\n",
       "      <td>Coupe</td>\n",
       "      <td>28</td>\n",
       "      <td>18</td>\n",
       "      <td>3916</td>\n",
       "      <td>29450</td>\n",
       "      <td>23.0</td>\n",
       "      <td>Premium</td>\n",
       "      <td>3</td>\n",
       "    </tr>\n",
       "    <tr>\n",
       "      <th>4</th>\n",
       "      <td>BMW</td>\n",
       "      <td>1 Series</td>\n",
       "      <td>2011</td>\n",
       "      <td>premium unleaded (required)</td>\n",
       "      <td>230.0</td>\n",
       "      <td>6.0</td>\n",
       "      <td>MANUAL</td>\n",
       "      <td>rear wheel drive</td>\n",
       "      <td>2.0</td>\n",
       "      <td>Compact</td>\n",
       "      <td>Convertible</td>\n",
       "      <td>28</td>\n",
       "      <td>18</td>\n",
       "      <td>3916</td>\n",
       "      <td>34500</td>\n",
       "      <td>23.0</td>\n",
       "      <td>Premium</td>\n",
       "      <td>3</td>\n",
       "    </tr>\n",
       "    <tr>\n",
       "      <th>5</th>\n",
       "      <td>BMW</td>\n",
       "      <td>1 Series</td>\n",
       "      <td>2012</td>\n",
       "      <td>premium unleaded (required)</td>\n",
       "      <td>230.0</td>\n",
       "      <td>6.0</td>\n",
       "      <td>MANUAL</td>\n",
       "      <td>rear wheel drive</td>\n",
       "      <td>2.0</td>\n",
       "      <td>Compact</td>\n",
       "      <td>Coupe</td>\n",
       "      <td>28</td>\n",
       "      <td>18</td>\n",
       "      <td>3916</td>\n",
       "      <td>31200</td>\n",
       "      <td>23.0</td>\n",
       "      <td>Premium</td>\n",
       "      <td>3</td>\n",
       "    </tr>\n",
       "    <tr>\n",
       "      <th>6</th>\n",
       "      <td>BMW</td>\n",
       "      <td>1 Series</td>\n",
       "      <td>2012</td>\n",
       "      <td>premium unleaded (required)</td>\n",
       "      <td>300.0</td>\n",
       "      <td>6.0</td>\n",
       "      <td>MANUAL</td>\n",
       "      <td>rear wheel drive</td>\n",
       "      <td>2.0</td>\n",
       "      <td>Compact</td>\n",
       "      <td>Convertible</td>\n",
       "      <td>26</td>\n",
       "      <td>17</td>\n",
       "      <td>3916</td>\n",
       "      <td>44100</td>\n",
       "      <td>21.5</td>\n",
       "      <td>Premium</td>\n",
       "      <td>3</td>\n",
       "    </tr>\n",
       "    <tr>\n",
       "      <th>7</th>\n",
       "      <td>BMW</td>\n",
       "      <td>1 Series</td>\n",
       "      <td>2012</td>\n",
       "      <td>premium unleaded (required)</td>\n",
       "      <td>300.0</td>\n",
       "      <td>6.0</td>\n",
       "      <td>MANUAL</td>\n",
       "      <td>rear wheel drive</td>\n",
       "      <td>2.0</td>\n",
       "      <td>Compact</td>\n",
       "      <td>Coupe</td>\n",
       "      <td>28</td>\n",
       "      <td>20</td>\n",
       "      <td>3916</td>\n",
       "      <td>39300</td>\n",
       "      <td>24.0</td>\n",
       "      <td>Premium</td>\n",
       "      <td>3</td>\n",
       "    </tr>\n",
       "    <tr>\n",
       "      <th>8</th>\n",
       "      <td>BMW</td>\n",
       "      <td>1 Series</td>\n",
       "      <td>2012</td>\n",
       "      <td>premium unleaded (required)</td>\n",
       "      <td>230.0</td>\n",
       "      <td>6.0</td>\n",
       "      <td>MANUAL</td>\n",
       "      <td>rear wheel drive</td>\n",
       "      <td>2.0</td>\n",
       "      <td>Compact</td>\n",
       "      <td>Convertible</td>\n",
       "      <td>28</td>\n",
       "      <td>18</td>\n",
       "      <td>3916</td>\n",
       "      <td>36900</td>\n",
       "      <td>23.0</td>\n",
       "      <td>Premium</td>\n",
       "      <td>3</td>\n",
       "    </tr>\n",
       "    <tr>\n",
       "      <th>9</th>\n",
       "      <td>BMW</td>\n",
       "      <td>1 Series</td>\n",
       "      <td>2013</td>\n",
       "      <td>premium unleaded (required)</td>\n",
       "      <td>230.0</td>\n",
       "      <td>6.0</td>\n",
       "      <td>MANUAL</td>\n",
       "      <td>rear wheel drive</td>\n",
       "      <td>2.0</td>\n",
       "      <td>Compact</td>\n",
       "      <td>Convertible</td>\n",
       "      <td>27</td>\n",
       "      <td>18</td>\n",
       "      <td>3916</td>\n",
       "      <td>37200</td>\n",
       "      <td>22.5</td>\n",
       "      <td>Premium</td>\n",
       "      <td>3</td>\n",
       "    </tr>\n",
       "  </tbody>\n",
       "</table>\n",
       "</div>"
      ],
      "text/plain": [
       "  Make       Model  Year             Engine Fuel Type  Engine HP  \\\n",
       "0  BMW  1 Series M  2011  premium unleaded (required)      335.0   \n",
       "1  BMW    1 Series  2011  premium unleaded (required)      300.0   \n",
       "2  BMW    1 Series  2011  premium unleaded (required)      300.0   \n",
       "3  BMW    1 Series  2011  premium unleaded (required)      230.0   \n",
       "4  BMW    1 Series  2011  premium unleaded (required)      230.0   \n",
       "5  BMW    1 Series  2012  premium unleaded (required)      230.0   \n",
       "6  BMW    1 Series  2012  premium unleaded (required)      300.0   \n",
       "7  BMW    1 Series  2012  premium unleaded (required)      300.0   \n",
       "8  BMW    1 Series  2012  premium unleaded (required)      230.0   \n",
       "9  BMW    1 Series  2013  premium unleaded (required)      230.0   \n",
       "\n",
       "   Engine Cylinders Transmission Type     Driven_Wheels  Number of Doors  \\\n",
       "0               6.0            MANUAL  rear wheel drive              2.0   \n",
       "1               6.0            MANUAL  rear wheel drive              2.0   \n",
       "2               6.0            MANUAL  rear wheel drive              2.0   \n",
       "3               6.0            MANUAL  rear wheel drive              2.0   \n",
       "4               6.0            MANUAL  rear wheel drive              2.0   \n",
       "5               6.0            MANUAL  rear wheel drive              2.0   \n",
       "6               6.0            MANUAL  rear wheel drive              2.0   \n",
       "7               6.0            MANUAL  rear wheel drive              2.0   \n",
       "8               6.0            MANUAL  rear wheel drive              2.0   \n",
       "9               6.0            MANUAL  rear wheel drive              2.0   \n",
       "\n",
       "  Vehicle Size Vehicle Style  highway MPG  city mpg  Popularity   MSRP  \\\n",
       "0      Compact         Coupe           26        19        3916  46135   \n",
       "1      Compact   Convertible           28        19        3916  40650   \n",
       "2      Compact         Coupe           28        20        3916  36350   \n",
       "3      Compact         Coupe           28        18        3916  29450   \n",
       "4      Compact   Convertible           28        18        3916  34500   \n",
       "5      Compact         Coupe           28        18        3916  31200   \n",
       "6      Compact   Convertible           26        17        3916  44100   \n",
       "7      Compact         Coupe           28        20        3916  39300   \n",
       "8      Compact   Convertible           28        18        3916  36900   \n",
       "9      Compact   Convertible           27        18        3916  37200   \n",
       "\n",
       "   Avg MPG Fuel Type Group  Cluster  \n",
       "0     22.5         Premium        3  \n",
       "1     23.5         Premium        3  \n",
       "2     24.0         Premium        3  \n",
       "3     23.0         Premium        3  \n",
       "4     23.0         Premium        3  \n",
       "5     23.0         Premium        3  \n",
       "6     21.5         Premium        3  \n",
       "7     24.0         Premium        3  \n",
       "8     23.0         Premium        3  \n",
       "9     22.5         Premium        3  "
      ]
     },
     "execution_count": 41,
     "metadata": {},
     "output_type": "execute_result"
    }
   ],
   "source": [
    "df.head(10)"
   ]
  },
  {
   "cell_type": "code",
   "execution_count": 6,
   "id": "81fd2bd1-c064-4881-ba10-33c015c25084",
   "metadata": {},
   "outputs": [
    {
     "data": {
      "text/plain": [
       "Make                    0\n",
       "Model                   0\n",
       "Year                    0\n",
       "Engine Fuel Type        3\n",
       "Engine HP              69\n",
       "Engine Cylinders       30\n",
       "Transmission Type       0\n",
       "Driven_Wheels           0\n",
       "Number of Doors         6\n",
       "Market Category      3742\n",
       "Vehicle Size            0\n",
       "Vehicle Style           0\n",
       "highway MPG             0\n",
       "city mpg                0\n",
       "Popularity              0\n",
       "MSRP                    0\n",
       "dtype: int64"
      ]
     },
     "execution_count": 6,
     "metadata": {},
     "output_type": "execute_result"
    }
   ],
   "source": [
    "df.isnull().sum()"
   ]
  },
  {
   "cell_type": "code",
   "execution_count": 8,
   "id": "4f6f54fc-8a7e-4843-a473-1617f33d08f9",
   "metadata": {},
   "outputs": [
    {
     "data": {
      "text/plain": [
       "array(['premium unleaded (required)', 'regular unleaded',\n",
       "       'premium unleaded (recommended)', 'flex-fuel (unleaded/E85)',\n",
       "       'diesel', 'electric',\n",
       "       'flex-fuel (premium unleaded recommended/E85)', 'natural gas',\n",
       "       'flex-fuel (premium unleaded required/E85)',\n",
       "       'flex-fuel (unleaded/natural gas)', nan], dtype=object)"
      ]
     },
     "execution_count": 8,
     "metadata": {},
     "output_type": "execute_result"
    }
   ],
   "source": [
    "df['Engine Fuel Type'].unique()"
   ]
  },
  {
   "cell_type": "markdown",
   "id": "744f0ffd-2720-4c27-a846-d433bfa1b736",
   "metadata": {},
   "source": [
    "We can see the value is in the float type and have nan on 6th line and we will see the porpotion of the missing values. And as we can see missing values % is less, so we can do replace nan."
   ]
  },
  {
   "cell_type": "markdown",
   "id": "b4508089-64e5-4612-8c8e-f97651a71088",
   "metadata": {},
   "source": [
    "🧹 STEP 2: Data Cleaning\n",
    "A. Handle Missing Values"
   ]
  },
  {
   "cell_type": "code",
   "execution_count": 17,
   "id": "97f9ecbf-0c0c-4258-835a-fa47de357303",
   "metadata": {},
   "outputs": [
    {
     "name": "stdout",
     "output_type": "stream",
     "text": [
      "Number of NaN values: 0\n",
      "Number of non-NaN values: 11914\n"
     ]
    }
   ],
   "source": [
    "nan_count = df['Engine HP'].isna().sum() \n",
    "non_nan_count = df['Engine HP'].count()\n",
    "print(f\"Number of NaN values: {nan_count}\")\n",
    "print(f\"Number of non-NaN values: {non_nan_count}\")"
   ]
  },
  {
   "cell_type": "markdown",
   "id": "7859ea07-cfe9-4a7a-9297-733181acba5f",
   "metadata": {},
   "source": [
    "We will fix the missing value columns \"Engine HP\" and \"Engine Cylinder\""
   ]
  },
  {
   "cell_type": "markdown",
   "id": "9bda890a-218a-4549-8b25-84efe9f0b7a7",
   "metadata": {},
   "source": [
    "To do that we will replace the nan values by the  median of the remaining values."
   ]
  },
  {
   "cell_type": "markdown",
   "id": "b2cbb681-f6f9-4d50-a3b9-b9b53a7e7b8f",
   "metadata": {},
   "source": [
    "In the case of the doors, we will use mode as 4 so we know moistly cars have 4 doors. In the case of the Market Category we will remove that column cause it has High number of missing values"
   ]
  },
  {
   "cell_type": "code",
   "execution_count": 28,
   "id": "bb5bd46a-b369-45d8-aadd-8c32ddbce6a1",
   "metadata": {},
   "outputs": [
    {
     "name": "stderr",
     "output_type": "stream",
     "text": [
      "C:\\Users\\ashut\\AppData\\Local\\Temp\\ipykernel_3652\\902087817.py:1: FutureWarning: A value is trying to be set on a copy of a DataFrame or Series through chained assignment using an inplace method.\n",
      "The behavior will change in pandas 3.0. This inplace method will never work because the intermediate object on which we are setting values always behaves as a copy.\n",
      "\n",
      "For example, when doing 'df[col].method(value, inplace=True)', try using 'df.method({col: value}, inplace=True)' or df[col] = df[col].method(value) instead, to perform the operation inplace on the original object.\n",
      "\n",
      "\n",
      "  df['Engine Cylinders'].fillna(df['Engine Cylinders'].median(), inplace=True)\n",
      "C:\\Users\\ashut\\AppData\\Local\\Temp\\ipykernel_3652\\902087817.py:3: FutureWarning: A value is trying to be set on a copy of a DataFrame or Series through chained assignment using an inplace method.\n",
      "The behavior will change in pandas 3.0. This inplace method will never work because the intermediate object on which we are setting values always behaves as a copy.\n",
      "\n",
      "For example, when doing 'df[col].method(value, inplace=True)', try using 'df.method({col: value}, inplace=True)' or df[col] = df[col].method(value) instead, to perform the operation inplace on the original object.\n",
      "\n",
      "\n",
      "  df['Engine HP'].fillna(df['Engine HP'].median(), inplace=True)\n",
      "C:\\Users\\ashut\\AppData\\Local\\Temp\\ipykernel_3652\\902087817.py:5: FutureWarning: A value is trying to be set on a copy of a DataFrame or Series through chained assignment using an inplace method.\n",
      "The behavior will change in pandas 3.0. This inplace method will never work because the intermediate object on which we are setting values always behaves as a copy.\n",
      "\n",
      "For example, when doing 'df[col].method(value, inplace=True)', try using 'df.method({col: value}, inplace=True)' or df[col] = df[col].method(value) instead, to perform the operation inplace on the original object.\n",
      "\n",
      "\n",
      "  df['Number of Doors'].fillna(df['Number of Doors'].mode()[0], inplace=True)\n",
      "C:\\Users\\ashut\\AppData\\Local\\Temp\\ipykernel_3652\\902087817.py:7: FutureWarning: A value is trying to be set on a copy of a DataFrame or Series through chained assignment using an inplace method.\n",
      "The behavior will change in pandas 3.0. This inplace method will never work because the intermediate object on which we are setting values always behaves as a copy.\n",
      "\n",
      "For example, when doing 'df[col].method(value, inplace=True)', try using 'df.method({col: value}, inplace=True)' or df[col] = df[col].method(value) instead, to perform the operation inplace on the original object.\n",
      "\n",
      "\n",
      "  df['Engine Fuel Type'].fillna(df['Engine Fuel Type'].mode()[0], inplace=True)\n"
     ]
    }
   ],
   "source": [
    "df['Engine Cylinders'].fillna(df['Engine Cylinders'].median(), inplace=True)\n",
    "\n",
    "df['Engine HP'].fillna(df['Engine HP'].median(), inplace=True)\n",
    "\n",
    "df['Number of Doors'].fillna(df['Number of Doors'].mode()[0], inplace=True)\n",
    "\n",
    "df['Engine Fuel Type'].fillna(df['Engine Fuel Type'].mode()[0], inplace=True)\n",
    "\n",
    "df.drop(columns=['Market Category'], inplace=True)"
   ]
  },
  {
   "cell_type": "markdown",
   "id": "1cf44789-bd10-4454-81f7-baf55c3f0e99",
   "metadata": {},
   "source": [
    "Now we will check that if our methog has work"
   ]
  },
  {
   "cell_type": "code",
   "execution_count": 29,
   "id": "60a91ade-7e84-4093-91f7-404c23c33a20",
   "metadata": {},
   "outputs": [
    {
     "data": {
      "text/plain": [
       "array([ 335.,  300.,  230.,  320.,  172.,  160.,  130.,  158.,  240.,\n",
       "        248.,  162.,  217.,  184.,  295.,  115.,  140.,  155.,  114.,\n",
       "        100.,  241.,  180.,  177.,  228.,  121.,  148.,  194.,  218.,\n",
       "        161.,  292.,  250.,  255.,  222.,   82.,  134.,  306.,  400.,\n",
       "        425.,  350.,  332.,  268.,  282.,  275.,  201.,  442.,  562.,\n",
       "        597.,  237.,  270.,  445.,  443.,  302.,  322.,  315.,  227.,\n",
       "        101.,  135.,  485.,  238.,  515.,  543.,  631.,  604.,  620.,\n",
       "        611.,  661.,  157.,  402.,  389.,  110.,  532.,  170.,  165.,\n",
       "        125.,  641.,  535.,  153.,  144.,  188.,  372.,  108.,  168.,\n",
       "        190.,  205.,  200.,  173.,  220.,  210.,  280.,  207.,  265.,\n",
       "        260.,  290.,  285.,  390.,  225.,  185.,  150.,  430.,  520.,\n",
       "        560.,  475.,  500.,  540.,  370.,  580.,  420.,  345.,  195.,\n",
       "        193.,  208.,  181.,  236.,  186.,  252.,  310.,  333.,  340.,\n",
       "        450.,  281.,  288.,  138.,  137.,  106.,  271.,  196.,  212.,\n",
       "        278.,  189.,  480.,  152.,  600.,  375.,  198.,  182.,  179.,\n",
       "        264.,  503.,  456.,  317.,  235.,  385.,  303.,   63.,  321.,\n",
       "        272.,  464.,  202.,  215.,  283.,  700.,  720.,  750.,  107.,\n",
       "        293.,  119.,  143.,  245.,  120.,  337.,  276.,  330.,  132.,\n",
       "        199.,  530.,  451.,  329.,  469.,  362.,   94.,  553.,  453.,\n",
       "        483.,  323.,  426.,  505.,  455.,  650.,  178.,  242.,  305.,\n",
       "        605.,  440.,  570.,  325.,  175.,  707.,  131.,   62.,   92.,\n",
       "        102.,  127.,  174.,  621.,  510.,  429.,  536.,  355.,  382.,\n",
       "        577.,  113.,  136.,  234.,  552.,  626.,  616.,  572.,  521.,\n",
       "        567.,  582.,  460.,  164.,  192.,  224.,  239.,  404.,  318.,\n",
       "        556.,  640.,  122.,  146.,  244.,  273.,  563.,  141.,  435.,\n",
       "        550.,  360.,  145.,  349.,  166.,  147.,  128.,  197.,  291.,\n",
       "        660.,  261.,  156.,  403.,   95.,  297.,   81.,  257.,  365.,\n",
       "        203.,  231.,  731.,  651.,  287.,  123.,  126.,  416.,  343.,\n",
       "        348.,  328.,  298.,  171.,  219.,  221.,  311.,  361.,  256.,\n",
       "        415.,  274.,  449.,  395.,  401.,  454.,  444.,  338.,  342.,\n",
       "        467.,  545.,  565.,  301.,  263.,   93.,  187.,  610.,   66.,\n",
       "        111.,   98.,  204.,  211.,   73.,  304.,  381.,  142.,   74.,\n",
       "        424.,  253.,   90.,  386.,  359.,  438.,  232.,  383.,  518.,\n",
       "        493.,  259.,  523.,   55.,   79.,  116.,  151.,   78.,  191.,\n",
       "        592.,  632.,  670.,   88.,  167.,  118.,  380.,  214.,  573.,\n",
       "        284.,   99.,  103.,  525.,  254.,  470.,  154.,  176.,  279.,\n",
       "        377.,  251.,  223.,  308.,  105.,  316.,  124.,  526.,  662.,\n",
       "        266.,  296.,  557.,  617.,  583.,  622.,   84.,  163.,  354.,\n",
       "        159.,   96.,  206.,  169.,  133.,  568.,  109., 1001.,  645.,\n",
       "        490.,  624.,  410.,   97.,  394.])"
      ]
     },
     "execution_count": 29,
     "metadata": {},
     "output_type": "execute_result"
    }
   ],
   "source": [
    "df['Engine HP'].unique()"
   ]
  },
  {
   "cell_type": "code",
   "execution_count": 30,
   "id": "30a51307-9be6-4397-8b79-e63d16b5237f",
   "metadata": {},
   "outputs": [
    {
     "data": {
      "text/plain": [
       "array([ 6.,  4.,  5.,  8., 12.,  0., 10.,  3., 16.])"
      ]
     },
     "execution_count": 30,
     "metadata": {},
     "output_type": "execute_result"
    }
   ],
   "source": [
    "df['Engine Cylinders'].unique()"
   ]
  },
  {
   "cell_type": "raw",
   "id": "9710df85-ce5b-4e87-a613-243f40e5ebdf",
   "metadata": {},
   "source": [
    "As we can see there are no nan values left, now next step would be the analysis part."
   ]
  },
  {
   "cell_type": "markdown",
   "id": "732c6a64-4667-4b2c-bc46-401afd3a6af4",
   "metadata": {},
   "source": [
    "🧠 STEP 3: Feature Engineering"
   ]
  },
  {
   "cell_type": "markdown",
   "id": "b1684c99-608c-4513-9e4c-5505696b459b",
   "metadata": {},
   "source": [
    "A. \"Fuel Efficiency\""
   ]
  },
  {
   "cell_type": "markdown",
   "id": "86b649d5-7cf9-4699-925c-ae4f50ef1d22",
   "metadata": {},
   "source": [
    "We create new, meaningful variables like average MPG and grouped fuel types to enrich the dataset. This helps simplify complex categories and extract patterns that better explain pricing and consumer behavior. These engineered features improve the performance and interpretability of models used in later analysis."
   ]
  },
  {
   "cell_type": "code",
   "execution_count": 31,
   "id": "a11efaff-d1c9-42db-838f-0485959ca5f6",
   "metadata": {},
   "outputs": [],
   "source": [
    "df['Avg MPG'] = (df['city mpg'] + df['highway MPG']) / 2\n"
   ]
  },
  {
   "cell_type": "markdown",
   "id": "d4e2bd61-1e49-4359-b2d6-eaa61fb6808e",
   "metadata": {},
   "source": [
    "B. Fuel Type Grouping"
   ]
  },
  {
   "cell_type": "code",
   "execution_count": 32,
   "id": "5adf9b0a-260e-462c-bad3-9ff88e65d878",
   "metadata": {},
   "outputs": [],
   "source": [
    "df['Fuel Type Group'] = df['Engine Fuel Type'].apply(\n",
    "    lambda x: 'Alternative' if isinstance(x, str) and ('electric' in x.lower() or 'natural gas' in x.lower()) else\n",
    "              'Flex-Fuel' if isinstance(x, str) and 'flex' in x.lower() else\n",
    "              'Premium' if isinstance(x, str) and 'premium' in x.lower() else\n",
    "              'Regular' if isinstance(x, str) and 'regular' in x.lower() else\n",
    "              'Diesel' if isinstance(x, str) and 'diesel' in x.lower() else \n",
    "              'Other' \n",
    ")"
   ]
  },
  {
   "cell_type": "markdown",
   "id": "65bd32ce-a464-4868-98c1-42314fd4f4d9",
   "metadata": {},
   "source": [
    "📊 STEP 4: Exploratory Data Analysis (EDA)\n"
   ]
  },
  {
   "cell_type": "markdown",
   "id": "fb363ddf-3cdd-4d7b-981a-81b0359ee98c",
   "metadata": {},
   "source": [
    "A. Distribution of Fuel Types"
   ]
  },
  {
   "cell_type": "markdown",
   "id": "5a1a11be-b786-4020-a266-6ec70fce9732",
   "metadata": {},
   "source": [
    " We explore how features like fuel type, vehicle style, and MSRP are distributed to uncover trends in consumer preferences. Visualizations such as bar plots and box plots help identify which categories are most common and how pricing varies across them. This insight guides decisions on what product features to prioritize and how to position them in the market."
   ]
  },
  {
   "cell_type": "code",
   "execution_count": 33,
   "id": "89a897ef-9b03-4776-b932-9da15f208009",
   "metadata": {},
   "outputs": [
    {
     "data": {
      "image/png": "[encoded data removed]",
      "text/plain": [
       "<Figure size 1000x600 with 1 Axes>"
      ]
     },
     "metadata": {},
     "output_type": "display_data"
    }
   ],
   "source": [
    "import seaborn as sns\n",
    "import matplotlib.pyplot as plt\n",
    "\n",
    "plt.figure(figsize=(10,6))\n",
    "sns.countplot(x='Fuel Type Group', data=df)\n",
    "plt.title('Distribution of Fuel Types')\n",
    "plt.xticks(rotation=45)\n",
    "plt.show()\n"
   ]
  },
  {
   "cell_type": "markdown",
   "id": "12ae94eb-10d2-410a-98d3-76e078f461f5",
   "metadata": {},
   "source": [
    "B. MSRP by Vehicle Style"
   ]
  },
  {
   "cell_type": "code",
   "execution_count": 34,
   "id": "b15dc152-17ba-4d6d-b6a0-c3460366d7a1",
   "metadata": {},
   "outputs": [
    {
     "data": {
      "image/png": "[encoded data removed]",
      "text/plain": [
       "<Figure size 1200x600 with 1 Axes>"
      ]
     },
     "metadata": {},
     "output_type": "display_data"
    }
   ],
   "source": [
    "plt.figure(figsize=(12,6))\n",
    "sns.boxplot(x='Vehicle Style', y='MSRP', data=df)\n",
    "plt.yscale('log')  # log scale due to skewed pricing\n",
    "plt.xticks(rotation=45)\n",
    "plt.title('MSRP Distribution by Vehicle Style')\n",
    "plt.show()\n"
   ]
  },
  {
   "cell_type": "markdown",
   "id": "a8ca8b35-8b75-4917-b0b7-63938e090308",
   "metadata": {},
   "source": [
    "🎯 STEP 5: Regression Analysis to Predict MSRP\n"
   ]
  },
  {
   "cell_type": "markdown",
   "id": "dcf7e320-eac1-4f89-be79-e496d4fd9b17",
   "metadata": {},
   "source": [
    "A. Encoding Categorical Features"
   ]
  },
  {
   "cell_type": "markdown",
   "id": "0fa261f2-fe31-4749-8367-75b532106327",
   "metadata": {},
   "source": [
    "We use pd.get_dummies() to convert categorical features like 'Vehicle Style' and 'Fuel Type Group' into numerical format for regression modeling. This allows machine learning algorithms to interpret these variables correctly without assuming any ordinal relationship."
   ]
  },
  {
   "cell_type": "code",
   "execution_count": 35,
   "id": "315a284c-a04e-41cd-9870-2b87620e85bf",
   "metadata": {},
   "outputs": [],
   "source": [
    "df_encoded = pd.get_dummies(df[['Engine HP', 'Engine Cylinders', 'Avg MPG', 'Vehicle Style', 'Fuel Type Group']], drop_first=True)\n",
    "\n",
    "df_encoded['MSRP'] = df['MSRP']\n"
   ]
  },
  {
   "cell_type": "markdown",
   "id": "553bbd4a-c070-40f2-9aa5-404cfc88c738",
   "metadata": {},
   "source": [
    "B. Train Regression Model"
   ]
  },
  {
   "cell_type": "code",
   "execution_count": 38,
   "id": "6a1d8ac1-1d38-4689-b088-b796a1e8570c",
   "metadata": {},
   "outputs": [
    {
     "name": "stdout",
     "output_type": "stream",
     "text": [
      "RMSE: 31615.701041824585\n"
     ]
    }
   ],
   "source": [
    "from sklearn.model_selection import train_test_split\n",
    "from sklearn.linear_model import LinearRegression\n",
    "from sklearn.metrics import mean_squared_error\n",
    "import numpy as np  # Added import for np.sqrt\n",
    "\n",
    "X = df_encoded.drop('MSRP', axis=1)\n",
    "y = df_encoded['MSRP']\n",
    "\n",
    "X_train, X_test, y_train, y_test = train_test_split(X, y, test_size=0.2, random_state=42)\n",
    "\n",
    "model = LinearRegression()\n",
    "model.fit(X_train, y_train)\n",
    "\n",
    "y_pred = model.predict(X_test)\n",
    "\n",
    "print(\"RMSE:\", np.sqrt(mean_squared_error(y_test, y_pred)))"
   ]
  },
  {
   "cell_type": "markdown",
   "id": "74659e78-0534-4887-9a83-7dfd7711ec63",
   "metadata": {},
   "source": [
    "🔍 STEP 6: Market Segmentation\n"
   ]
  },
  {
   "cell_type": "markdown",
   "id": "be8ac0d0-fe88-41e2-a1cd-a9049a074daa",
   "metadata": {},
   "source": [
    "A. KMeans Clustering - KMeans clustering groups similar cars based on features like horsepower, MPG, and fuel type to identify distinct market segments. This helps the manufacturer target specific consumer groups with tailored pricing and product strategies."
   ]
  },
  {
   "cell_type": "code",
   "execution_count": 39,
   "id": "30c62a50-ecef-4714-81f4-11d175ec35f1",
   "metadata": {},
   "outputs": [
    {
     "name": "stderr",
     "output_type": "stream",
     "text": [
      "C:\\Users\\ashut\\anaconda3\\Lib\\site-packages\\joblib\\externals\\loky\\backend\\context.py:136: UserWarning: Could not find the number of physical cores for the following reason:\n",
      "[WinError 2] The system cannot find the file specified\n",
      "Returning the number of logical cores instead. You can silence this warning by setting LOKY_MAX_CPU_COUNT to the number of cores you want to use.\n",
      "  warnings.warn(\n",
      "  File \"C:\\Users\\ashut\\anaconda3\\Lib\\site-packages\\joblib\\externals\\loky\\backend\\context.py\", line 257, in _count_physical_cores\n",
      "    cpu_info = subprocess.run(\n",
      "        \"wmic CPU Get NumberOfCores /Format:csv\".split(),\n",
      "        capture_output=True,\n",
      "        text=True,\n",
      "    )\n",
      "  File \"C:\\Users\\ashut\\anaconda3\\Lib\\subprocess.py\", line 554, in run\n",
      "    with Popen(*popenargs, **kwargs) as process:\n",
      "         ~~~~~^^^^^^^^^^^^^^^^^^^^^^\n",
      "  File \"C:\\Users\\ashut\\anaconda3\\Lib\\subprocess.py\", line 1039, in __init__\n",
      "    self._execute_child(args, executable, preexec_fn, close_fds,\n",
      "    ~~~~~~~~~~~~~~~~~~~^^^^^^^^^^^^^^^^^^^^^^^^^^^^^^^^^^^^^^^^^\n",
      "                        pass_fds, cwd, env,\n",
      "                        ^^^^^^^^^^^^^^^^^^^\n",
      "    ...<5 lines>...\n",
      "                        gid, gids, uid, umask,\n",
      "                        ^^^^^^^^^^^^^^^^^^^^^^\n",
      "                        start_new_session, process_group)\n",
      "                        ^^^^^^^^^^^^^^^^^^^^^^^^^^^^^^^^^\n",
      "  File \"C:\\Users\\ashut\\anaconda3\\Lib\\subprocess.py\", line 1554, in _execute_child\n",
      "    hp, ht, pid, tid = _winapi.CreateProcess(executable, args,\n",
      "                       ~~~~~~~~~~~~~~~~~~~~~^^^^^^^^^^^^^^^^^^\n",
      "                             # no special security\n",
      "                             ^^^^^^^^^^^^^^^^^^^^^\n",
      "    ...<4 lines>...\n",
      "                             cwd,\n",
      "                             ^^^^\n",
      "                             startupinfo)\n",
      "                             ^^^^^^^^^^^^\n"
     ]
    }
   ],
   "source": [
    "from sklearn.preprocessing import StandardScaler\n",
    "from sklearn.cluster import KMeans\n",
    "\n",
    "features = df_encoded.drop('MSRP', axis=1)\n",
    "scaler = StandardScaler()\n",
    "features_scaled = scaler.fit_transform(features)\n",
    "\n",
    "kmeans = KMeans(n_clusters=4, random_state=42)\n",
    "df['Cluster'] = kmeans.fit_predict(features_scaled)\n"
   ]
  },
  {
   "cell_type": "markdown",
   "id": "6c073b8f-8095-4a74-9bfa-ddd398b7c411",
   "metadata": {},
   "source": [
    "B. Cluster Visualization"
   ]
  },
  {
   "cell_type": "code",
   "execution_count": 40,
   "id": "d89c2599-3e87-458d-892c-105207bc0d90",
   "metadata": {},
   "outputs": [
    {
     "data": {
      "image/png": "[encoded data removed]",
      "text/plain": [
       "<Figure size 640x480 with 1 Axes>"
      ]
     },
     "metadata": {},
     "output_type": "display_data"
    }
   ],
   "source": [
    "sns.boxplot(x='Cluster', y='MSRP', data=df)\n",
    "plt.title('MSRP by Cluster')\n",
    "plt.show()\n"
   ]
  },
  {
   "cell_type": "code",
   "execution_count": null,
   "id": "228b1b44-6307-4b79-b18b-5b7721d45753",
   "metadata": {},
   "outputs": [],
   "source": []
  }
 ],
 "metadata": {
  "kernelspec": {
   "display_name": "Python [conda env:base] *",
   "language": "python",
   "name": "conda-base-py"
  },
  "language_info": {
   "codemirror_mode": {
    "name": "ipython",
    "version": 3
   },
   "file_extension": ".py",
   "mimetype": "text/x-python",
   "name": "python",
   "nbconvert_exporter": "python",
   "pygments_lexer": "ipython3",
   "version": "3.13.5"
  }
 },
 "nbformat": 4,
 "nbformat_minor": 5
}
